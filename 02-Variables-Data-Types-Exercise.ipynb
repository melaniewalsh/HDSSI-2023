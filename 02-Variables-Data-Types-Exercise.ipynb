{
 "cells": [
  {
   "cell_type": "markdown",
   "id": "dd0d302d-cb1a-48a5-8524-e3ed19036fc4",
   "metadata": {},
   "source": [
    "# Variables Data Types Exercise"
   ]
  },
  {
   "cell_type": "markdown",
   "id": "6f44ee54-4248-45d6-bd93-e213c5e3c541",
   "metadata": {},
   "source": [
    "## ✨Group Work Madlibs✨"
   ]
  },
  {
   "cell_type": "markdown",
   "id": "5e555e07-0955-4e8e-bddd-a3262fd186b4",
   "metadata": {},
   "source": [
    "Find a partner, and ask your partner(s) a few biographical questions about themselves and then put their answers into the correct variables with the correct data types.\n",
    "\n",
    "Here's an example (with actual responses replaced by None):"
   ]
  },
  {
   "cell_type": "code",
   "execution_count": 1,
   "id": "d3fbb7bb-c391-4965-95c6-e07c76f2c970",
   "metadata": {},
   "outputs": [],
   "source": [
    "name = None  #string\n",
    "age = None            #integer\n",
    "place = None     #string\n",
    "favorite_food = None #string \n",
    "dog_years_age = None    #float \n",
    "student_boolean = None        #boolean"
   ]
  },
  {
   "cell_type": "code",
   "execution_count": 2,
   "id": "58be2d1c-1ff9-4584-b6b1-eaf41583dce5",
   "metadata": {
    "tags": [
     "hide-output"
    ]
   },
   "outputs": [
    {
     "name": "stdout",
     "output_type": "stream",
     "text": [
      "✨This is...Prof. Walsh!✨\n",
      "\n",
      "Prof. Walsh likes tacos and once lived in Chicago.\n",
      "Prof. Walsh is 1000 years old, which is 7500.0 in dog years.\n",
      "The statement 'Prof. Walsh is a student' is False.\n",
      "\n"
     ]
    }
   ],
   "source": [
    "print(f'✨This is...{name}!✨')\n",
    "\n",
    "print(f\"\"\"\n",
    "{name} likes {favorite_food} and once lived in {place}.\n",
    "{name} is {age} years old, which is {dog_years_age} in dog years.\n",
    "The statement '{name} is a student' is {student_boolean}.\n",
    "\"\"\")"
   ]
  },
  {
   "cell_type": "markdown",
   "id": "9968b219-baf5-4dea-8237-ca3a76a5093e",
   "metadata": {},
   "source": [
    "**1.** Ask your partner a few questions and then fill in the variables below accordingly."
   ]
  },
  {
   "cell_type": "code",
   "execution_count": null,
   "id": "2a91ad60-aa04-41b7-a969-a1de9802e9c2",
   "metadata": {},
   "outputs": [],
   "source": [
    "# Fill in their name as a string\n",
    "name = None  #string\n",
    "\n",
    "# Fill in their name as an integer\n",
    "age = None            #integer\n",
    "# Fill in their hometown as a string\n",
    "place = None     #string\n",
    "\n",
    "# Fill in their fav food as a string\n",
    "favorite_food = None #string \n",
    "\n",
    "# Fill in their dog years age by multiplying the age variable by 7.5\n",
    "dog_years_age = None    #float * 7.5\n",
    "\n",
    "# Fill in their student status as a boolean\n",
    "student_boolean = None        #boolean"
   ]
  },
  {
   "cell_type": "markdown",
   "id": "c777a14b-daae-4c81-8db6-848bd7461da3",
   "metadata": {},
   "source": [
    "**2.** Now print the introduction below:"
   ]
  },
  {
   "cell_type": "code",
   "execution_count": null,
   "id": "bc03d659-d27a-4b10-945a-f9b46d957186",
   "metadata": {},
   "outputs": [],
   "source": [
    "print(f'✨This is...{name}!✨')\n",
    "\n",
    "print(f\"\"\"{name} likes {favorite_food} and once lived in {place}.\n",
    "{name} is {age} years old, which is {dog_years_age} in dog years.\n",
    "The statement \"{name} is a student\" is {student_boolean}.\"\"\")"
   ]
  }
 ],
 "metadata": {
  "kernelspec": {
   "display_name": "Python 3",
   "language": "python",
   "name": "python3"
  },
  "language_info": {
   "codemirror_mode": {
    "name": "ipython",
    "version": 3
   },
   "file_extension": ".py",
   "mimetype": "text/x-python",
   "name": "python",
   "nbconvert_exporter": "python",
   "pygments_lexer": "ipython3",
   "version": "3.8.8"
  }
 },
 "nbformat": 4,
 "nbformat_minor": 5
}
