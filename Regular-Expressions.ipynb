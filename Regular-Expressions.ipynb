{
 "cells": [
  {
   "cell_type": "markdown",
   "id": "4eb78ac3-43f7-4b88-9fce-b31420780fe6",
   "metadata": {},
   "source": [
    "# Regular Expressions"
   ]
  },
  {
   "cell_type": "code",
   "execution_count": 1,
   "id": "fcf3bc57-803d-41eb-90c1-bb9888c059d7",
   "metadata": {},
   "outputs": [],
   "source": [
    "import re"
   ]
  },
  {
   "cell_type": "markdown",
   "id": "db32fc51-5318-4d28-b85e-94ce47f6badf",
   "metadata": {},
   "source": [
    "# Split Anything That's Not a Word"
   ]
  },
  {
   "cell_type": "code",
   "execution_count": 2,
   "id": "ff112376-a41d-42d4-ab23-d0a0870b4c15",
   "metadata": {},
   "outputs": [],
   "source": [
    "fav_animals = \"\"\"Penguin\n",
    "Butterflies\n",
    "Buffalo\n",
    "Koala\n",
    "Birds\n",
    "Elephant\n",
    "Dogs\n",
    "Dog\n",
    "Raccoon \n",
    "can Balto count? :)\n",
    "Rough collie!\n",
    "Dinosaur\"\"\""
   ]
  },
  {
   "cell_type": "markdown",
   "id": "894dea4b-c929-4269-8d0a-a244d8969a48",
   "metadata": {},
   "source": [
    "`\\W+`"
   ]
  },
  {
   "cell_type": "code",
   "execution_count": 3,
   "id": "6411392e-bcae-4baf-8572-abd3172df2b0",
   "metadata": {},
   "outputs": [
    {
     "data": {
      "text/plain": [
       "['Penguin',\n",
       " 'Butterflies',\n",
       " 'Buffalo',\n",
       " 'Koala',\n",
       " 'Birds',\n",
       " 'Elephant',\n",
       " 'Dogs',\n",
       " 'Dog',\n",
       " 'Raccoon',\n",
       " 'can',\n",
       " 'Balto',\n",
       " 'count',\n",
       " 'Rough',\n",
       " 'collie',\n",
       " 'Dinosaur']"
      ]
     },
     "execution_count": 3,
     "metadata": {},
     "output_type": "execute_result"
    }
   ],
   "source": [
    "re.split('\\W+', fav_animals)"
   ]
  },
  {
   "cell_type": "markdown",
   "id": "9b557ef9-cae2-4806-800c-b8863e68e744",
   "metadata": {},
   "source": [
    "compare to the inferior method"
   ]
  },
  {
   "cell_type": "code",
   "execution_count": 5,
   "id": "7c4819ee-b6d8-4049-b919-a826c96c39be",
   "metadata": {},
   "outputs": [
    {
     "data": {
      "text/plain": [
       "['Penguin',\n",
       " 'Butterflies',\n",
       " 'Buffalo',\n",
       " 'Koala',\n",
       " 'Birds',\n",
       " 'Elephant',\n",
       " 'Dogs',\n",
       " 'Dog',\n",
       " 'Raccoon',\n",
       " 'can',\n",
       " 'Balto',\n",
       " 'count?',\n",
       " ':)',\n",
       " 'Rough',\n",
       " 'collie',\n",
       " 'Dinosaur']"
      ]
     },
     "execution_count": 5,
     "metadata": {},
     "output_type": "execute_result"
    }
   ],
   "source": [
    "fav_animals.replace(\"!\", \"\").split()"
   ]
  },
  {
   "cell_type": "markdown",
   "id": "ea9d04ac-7e5a-4fa4-9d5e-f0b294d30604",
   "metadata": {},
   "source": [
    "# Match 4 Digits in a Row"
   ]
  },
  {
   "cell_type": "markdown",
   "id": "10063b21-f7a5-4bcf-b346-f4a519af44b1",
   "metadata": {},
   "source": [
    "`[0-9]{4}`"
   ]
  },
  {
   "cell_type": "markdown",
   "id": "6f1b5cc0-ee7a-4266-8e99-27999e5091d2",
   "metadata": {},
   "source": [
    "Check it out on Regexer: https://regexr.com/6jr7b"
   ]
  },
  {
   "cell_type": "code",
   "execution_count": 6,
   "id": "d5569c4c-5a34-409d-8263-820a2641ce8a",
   "metadata": {},
   "outputs": [],
   "source": [
    "music_info = \"Harry Styles was born in 1994. He is 29 years old. Mitski was born in 1990. She is 32. Mitski's album Laurel Hell came out in 2022.\""
   ]
  },
  {
   "cell_type": "code",
   "execution_count": 12,
   "id": "74a0a880-e0d7-4a13-a84a-3c7dcb6c8c0a",
   "metadata": {},
   "outputs": [
    {
     "data": {
      "text/plain": [
       "<re.Match object; span=(25, 29), match='1994'>"
      ]
     },
     "execution_count": 12,
     "metadata": {},
     "output_type": "execute_result"
    }
   ],
   "source": [
    "re.search(\"[0-9]{4}\", music_info)"
   ]
  },
  {
   "cell_type": "code",
   "execution_count": 18,
   "id": "66213dde-5a96-4880-8ca2-e6e79f988e8f",
   "metadata": {},
   "outputs": [
    {
     "data": {
      "text/plain": [
       "'1994'"
      ]
     },
     "execution_count": 18,
     "metadata": {},
     "output_type": "execute_result"
    }
   ],
   "source": [
    "re.search(\"[0-9]{4}\", music_info).group()"
   ]
  },
  {
   "cell_type": "code",
   "execution_count": 19,
   "id": "d9f98460-22dc-45a9-a976-2a10a7c8f00f",
   "metadata": {},
   "outputs": [
    {
     "data": {
      "text/plain": [
       "['1994', '1990', '2022']"
      ]
     },
     "execution_count": 19,
     "metadata": {},
     "output_type": "execute_result"
    }
   ],
   "source": [
    "re.findall(\"[0-9]{4}\", music_info)"
   ]
  },
  {
   "cell_type": "code",
   "execution_count": null,
   "id": "4f623227-95b7-4997-9bd4-08f571cf722f",
   "metadata": {},
   "outputs": [],
   "source": []
  }
 ],
 "metadata": {
  "kernelspec": {
   "display_name": "Python 3",
   "language": "python",
   "name": "python3"
  },
  "language_info": {
   "codemirror_mode": {
    "name": "ipython",
    "version": 3
   },
   "file_extension": ".py",
   "mimetype": "text/x-python",
   "name": "python",
   "nbconvert_exporter": "python",
   "pygments_lexer": "ipython3",
   "version": "3.8.8"
  }
 },
 "nbformat": 4,
 "nbformat_minor": 5
}
