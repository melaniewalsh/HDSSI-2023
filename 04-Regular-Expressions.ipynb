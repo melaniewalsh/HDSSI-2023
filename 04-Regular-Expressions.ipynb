{
 "cells": [
  {
   "cell_type": "markdown",
   "id": "4eb78ac3-43f7-4b88-9fce-b31420780fe6",
   "metadata": {},
   "source": [
    "# Regular Expressions"
   ]
  },
  {
   "cell_type": "markdown",
   "id": "eaac8af3-f9ab-40df-b0cc-364379736ee8",
   "metadata": {},
   "source": [
    "Import the regular expressions Python library"
   ]
  },
  {
   "cell_type": "code",
   "execution_count": null,
   "id": "fcf3bc57-803d-41eb-90c1-bb9888c059d7",
   "metadata": {},
   "outputs": [],
   "source": [
    "import re"
   ]
  },
  {
   "cell_type": "markdown",
   "id": "c0b8103b-7e99-4b69-b8a2-1d1c723c6472",
   "metadata": {},
   "source": [
    "| Regular Expression Pattern       | Matches |\n",
    "|:---------------------------:|:-----------------------------------------------------------------------------------------------------------:|\n",
    "| `.` | any character                                         | \n",
    "| `\\w` | word                                         | \n",
    "| `\\W`                      | NOT word                                           |  \n",
    "| `\\d` | digit                                         | \n",
    "| `\\D`                      | NOT digit                                           | \n",
    "| `\\s` | whitespace                                         | \n",
    "| `\\S`                      | NOT whitespace                                          | \n",
    "| `[abc]`                      | Any of abc                                         |\n",
    "| `[^abc]`                      | Not any of abc                                         | \n",
    "| `(abc)`                      | Specific capture of \"abc\"                                         \n",
    "| `+`                      | 1 or more instances                                       | \n",
    "| `*`                      | 0 or more instances                                         | \n",
    "| `?`                      | 0 or 1 instance                                        | \n",
    "                   "
   ]
  },
  {
   "cell_type": "markdown",
   "id": "db32fc51-5318-4d28-b85e-94ce47f6badf",
   "metadata": {},
   "source": [
    "# Split Anything That's Not a Word"
   ]
  },
  {
   "cell_type": "markdown",
   "id": "af30ed87-cff8-4221-b550-887acf896863",
   "metadata": {},
   "source": [
    "Let's try to split this string into individual words and remove all punctuation"
   ]
  },
  {
   "cell_type": "code",
   "execution_count": null,
   "id": "ff112376-a41d-42d4-ab23-d0a0870b4c15",
   "metadata": {},
   "outputs": [],
   "source": [
    "fav_animals = \"\"\"Penguin\n",
    "Butterflies\n",
    "Buffalo\n",
    "Koala\n",
    "Birds\n",
    "Elephant\n",
    "Dogs\n",
    "Dog\n",
    "Raccoon \n",
    "can Balto count? :)\n",
    "Rough collie!\n",
    "Dinosaur\"\"\""
   ]
  },
  {
   "cell_type": "markdown",
   "id": "894dea4b-c929-4269-8d0a-a244d8969a48",
   "metadata": {},
   "source": [
    "`\\W+`"
   ]
  },
  {
   "cell_type": "code",
   "execution_count": null,
   "id": "6411392e-bcae-4baf-8572-abd3172df2b0",
   "metadata": {},
   "outputs": [],
   "source": [
    "re.split('\\W+', fav_animals)"
   ]
  },
  {
   "cell_type": "markdown",
   "id": "9b557ef9-cae2-4806-800c-b8863e68e744",
   "metadata": {},
   "source": [
    "compare to the inferior method"
   ]
  },
  {
   "cell_type": "code",
   "execution_count": null,
   "id": "7c4819ee-b6d8-4049-b919-a826c96c39be",
   "metadata": {},
   "outputs": [],
   "source": [
    "fav_animals.replace(\"!\", \"\").split()"
   ]
  },
  {
   "cell_type": "markdown",
   "id": "ea9d04ac-7e5a-4fa4-9d5e-f0b294d30604",
   "metadata": {},
   "source": [
    "# Match 4 Digits in a Row"
   ]
  },
  {
   "cell_type": "markdown",
   "id": "10063b21-f7a5-4bcf-b346-f4a519af44b1",
   "metadata": {},
   "source": [
    "`[0-9]{4}`"
   ]
  },
  {
   "cell_type": "markdown",
   "id": "6f1b5cc0-ee7a-4266-8e99-27999e5091d2",
   "metadata": {},
   "source": [
    "Check it out on Regexer: https://regexr.com/6jr7b"
   ]
  },
  {
   "cell_type": "code",
   "execution_count": null,
   "id": "d5569c4c-5a34-409d-8263-820a2641ce8a",
   "metadata": {},
   "outputs": [],
   "source": [
    "music_info = \"Harry Styles was born in 1994. He is 29 years old. Mitski was born in 1990. She is 32. Mitski's album Laurel Hell came out in 2022.\""
   ]
  },
  {
   "cell_type": "markdown",
   "id": "9b61eabe-5e06-441f-b098-b886ef0d22ca",
   "metadata": {},
   "source": [
    "To extract the first matching pattern, you can use `re.search()`: https://docs.python.org/3/library/re.html#re.search"
   ]
  },
  {
   "cell_type": "code",
   "execution_count": null,
   "id": "74a0a880-e0d7-4a13-a84a-3c7dcb6c8c0a",
   "metadata": {},
   "outputs": [],
   "source": [
    "re.search(\"[0-9]{4}\", music_info)"
   ]
  },
  {
   "cell_type": "markdown",
   "id": "a6225d94-bf2c-49a7-9515-9233e38ebf8e",
   "metadata": {},
   "source": [
    "To access the extracted text, you need to use `.group()`"
   ]
  },
  {
   "cell_type": "code",
   "execution_count": null,
   "id": "66213dde-5a96-4880-8ca2-e6e79f988e8f",
   "metadata": {},
   "outputs": [],
   "source": [
    "re.search(\"[0-9]{4}\", music_info).group()"
   ]
  },
  {
   "cell_type": "markdown",
   "id": "2ba02b8e-4216-421b-9c3e-9557ecdd9cb1",
   "metadata": {},
   "source": [
    "To extract all matching patterns, you can use `re.findall()`: https://docs.python.org/3/library/re.html#re.findall"
   ]
  },
  {
   "cell_type": "code",
   "execution_count": null,
   "id": "d9f98460-22dc-45a9-a976-2a10a7c8f00f",
   "metadata": {},
   "outputs": [],
   "source": [
    "re.findall(\"[0-9]{4}\", music_info)"
   ]
  },
  {
   "cell_type": "markdown",
   "id": "7baf8217-41b1-42d9-88e0-8d9c1873aa5f",
   "metadata": {},
   "source": [
    "# Extract Last Name From English Catalogue of Books Entry"
   ]
  },
  {
   "cell_type": "markdown",
   "id": "8a638b42-dbaa-4abc-b5a5-7f97a55a839f",
   "metadata": {},
   "source": [
    "Extract anything that comes before a parenthesis"
   ]
  },
  {
   "cell_type": "code",
   "execution_count": null,
   "id": "edff3fba-109c-4024-9068-2f2c20eac1a0",
   "metadata": {},
   "outputs": [],
   "source": [
    "ecb_entry = \"Andersen (Hans)-Fairy tales. Ryl. 8vo. bds., 1s. net NELSON, Sep.\"  "
   ]
  },
  {
   "cell_type": "code",
   "execution_count": null,
   "id": "54b0366b-1862-460c-9fdf-690d73b823e9",
   "metadata": {},
   "outputs": [],
   "source": [
    "re.search(\"(.*)(?=\\()\", ecb_entry).group(0)"
   ]
  },
  {
   "cell_type": "markdown",
   "id": "7a0df49d-c41e-476e-bf51-b7f19c7c1930",
   "metadata": {},
   "source": [
    "# Further Resources"
   ]
  },
  {
   "cell_type": "markdown",
   "id": "8961c89c-a474-4ec8-8aa9-25a5b5360776",
   "metadata": {},
   "source": [
    "- https://melaniewalsh.github.io/Intro-Cultural-Analytics/04-Data-Collection/03-Web-Scraping-Part2.html#regular-expressions\n",
    "- https://programminghistorian.org/en/lessons/understanding-regular-expressions"
   ]
  }
 ],
 "metadata": {
  "kernelspec": {
   "display_name": "Python 3",
   "language": "python",
   "name": "python3"
  },
  "language_info": {
   "codemirror_mode": {
    "name": "ipython",
    "version": 3
   },
   "file_extension": ".py",
   "mimetype": "text/x-python",
   "name": "python",
   "nbconvert_exporter": "python",
   "pygments_lexer": "ipython3",
   "version": "3.8.8"
  }
 },
 "nbformat": 4,
 "nbformat_minor": 5
}
